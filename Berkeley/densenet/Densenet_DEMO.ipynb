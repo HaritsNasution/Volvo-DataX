{
  "nbformat": 4,
  "nbformat_minor": 0,
  "metadata": {
    "colab": {
      "name": "Densenet-DEMO.ipynb",
      "provenance": []
    },
    "kernelspec": {
      "name": "python3",
      "display_name": "Python 3"
    }
  },
  "cells": [
    {
      "cell_type": "markdown",
      "metadata": {
        "id": "UTjbYZBP8GC1",
        "colab_type": "text"
      },
      "source": [
        "# **Sample Code to Run Spatio-Temporal Densenet**"
      ]
    },
    {
      "cell_type": "markdown",
      "metadata": {
        "id": "CmyMkom98BTS",
        "colab_type": "text"
      },
      "source": [
        "Step 1: Load the Necessary Libraries"
      ]
    },
    {
      "cell_type": "code",
      "metadata": {
        "id": "ciGJYX_90-sl",
        "colab_type": "code",
        "colab": {}
      },
      "source": [
        "from google.colab import drive\n",
        "import os\n",
        "%tensorflow_version 1.x\n",
        "!sudo pip install git+https://www.github.com/keras-team/keras-contrib.git\n",
        "import h5py\n",
        "import matplotlib.pyplot as plt\n",
        "import numpy as np\n",
        "from keras.utils import to_categorical\n",
        "import keras\n",
        "from keras.models import Sequential\n",
        "from keras.layers import Dense, Flatten, Conv3D, MaxPooling3D, Dropout\n",
        "from keras.utils import to_categorical\n",
        "import numpy as np\n",
        "import matplotlib.pyplot as plt\n",
        "from keras.callbacks import ModelCheckpoint\n",
        "from keras.models import model_from_json\n",
        "from numpy import load\n",
        "import pandas as pd\n",
        "import sklearn\n",
        "from sklearn.metrics import average_precision_score"
      ],
      "execution_count": 0,
      "outputs": []
    },
    {
      "cell_type": "markdown",
      "metadata": {
        "id": "W89xuGbr5ar4",
        "colab_type": "text"
      },
      "source": [
        "Step 2: Load JAAD Data"
      ]
    },
    {
      "cell_type": "code",
      "metadata": {
        "id": "3RlQFoOp5oJi",
        "colab_type": "code",
        "colab": {}
      },
      "source": [
        "x_train_images = load('latest_train_x.npy')\n",
        "y_train = load('latest_train_y.npy')\n",
        "y_train = to_categorical(y_train)\n",
        "x_test_images = load('latest_test_x.npy')\n",
        "y_test = load('latest_test_y.npy')\n",
        "y_test = to_categorical(y_test)"
      ],
      "execution_count": 0,
      "outputs": []
    },
    {
      "cell_type": "markdown",
      "metadata": {
        "id": "Wh90bqUv5yat",
        "colab_type": "text"
      },
      "source": [
        "Step 3: Create the Densenet Model"
      ]
    },
    {
      "cell_type": "code",
      "metadata": {
        "id": "LYFvl-UE55KG",
        "colab_type": "code",
        "colab": {}
      },
      "source": [
        "from conv3d_net_working import DenseNet3D_121\n",
        "\n",
        "model = DenseNet3D_121((100, 100, 16, 3))\n",
        "\n",
        "model.compile(loss=keras.losses.categorical_crossentropy, \n",
        "            optimizer = keras.optimizers.SGD(lr=1e-4),\n",
        "            metrics=['accuracy'])"
      ],
      "execution_count": 0,
      "outputs": []
    },
    {
      "cell_type": "markdown",
      "metadata": {
        "id": "EJfafr_G577n",
        "colab_type": "text"
      },
      "source": [
        "Step 4: Train the Model"
      ]
    },
    {
      "cell_type": "code",
      "metadata": {
        "id": "oXzH83DR5-m4",
        "colab_type": "code",
        "colab": {}
      },
      "source": [
        "history = model.fit(x_train_images, y_train,\n",
        "            batch_size=20,\n",
        "            epochs=30,\n",
        "            verbose=1,\n",
        "            validation_split = 0.2)"
      ],
      "execution_count": 0,
      "outputs": []
    },
    {
      "cell_type": "markdown",
      "metadata": {
        "id": "FxNcNzHI6oaF",
        "colab_type": "text"
      },
      "source": [
        "Step 5: Obtain Performance Metrics"
      ]
    },
    {
      "cell_type": "code",
      "metadata": {
        "id": "gOLJEt3J6rO4",
        "colab_type": "code",
        "colab": {}
      },
      "source": [
        "model.load_weights(\"og_old-split-adam.hdf5\")\n",
        "score = model.evaluate(x_test_images, y_test, verbose=0)\n",
        "print('Test loss:',score[0],'/Test accuracy:',score[1])\n",
        "predictions = model.predict(x_test_images, verbose=0)\n",
        "print('AP: ',(average_precision_score(y_test,np.array(predictions))))"
      ],
      "execution_count": 0,
      "outputs": []
    }
  ]
}